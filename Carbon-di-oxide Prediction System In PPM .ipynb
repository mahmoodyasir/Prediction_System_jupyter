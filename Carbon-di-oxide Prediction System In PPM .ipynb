{
 "cells": [
  {
   "cell_type": "code",
   "execution_count": null,
   "metadata": {},
   "outputs": [],
   "source": [
    "import pandas as pd\n",
    "import numpy as np\n",
    "from sklearn import linear_model\n",
    "import matplotlib.pyplot as plt\n",
    "from tkinter import *\n",
    "import tkinter.font as tkFont\n",
    "\n",
    "\n",
    "def run():\n",
    "    temperature = temperature_storage.get()\n",
    "    humidity = humidity_storage.get()\n",
    "    \n",
    "    reg = linear_model.LinearRegression()\n",
    "    reg.fit(df[['temperature','humidity']],df.co2ppm)\n",
    "    sum = reg.predict([[temperature, humidity]])\n",
    "    new_text = Label(text = sum, fg = \"green\", bg = \"white\", font=fontStyle_result)\n",
    "    new_text.place(x = 100, y = 220)\n",
    "    temp_text = Label(text = \" PPM\", fg = \"green\", bg = \"white\", font=fontStyle_result)\n",
    "    temp_text.place(x=320,y=220)\n",
    "\n",
    "\n",
    "df = pd.read_csv(\"project.csv\")\n",
    "df\n",
    "    \n",
    "screen = Tk()\n",
    "screen.title(\"Carbon-di-oxide Prediction System In PPM\")\n",
    "screen.geometry(\"500x300\")\n",
    "\n",
    "fontStyle = tkFont.Font(family=\"Lucida Grande\", size=20)\n",
    "fontStyle_result = tkFont.Font(family=\"Lucida Grande\", size=20)\n",
    "welcome_text = Label(text = \"Carbon-di-oxide Prediction System\", fg = \"blue\", bg = \"violet\", font=fontStyle)\n",
    "welcome_text.pack()\n",
    "\n",
    "temperature_text = Label(text = \"Enter Temperature: \")\n",
    "temperature_text.place(x=120,y=80)\n",
    "\n",
    "temperature_storage = DoubleVar()\n",
    "temperature = Entry(textvariable = temperature_storage)\n",
    "temperature.place(x=300,y=80)\n",
    "\n",
    "\n",
    "humidity_text = Label(text = \"Enter Humidity: \")\n",
    "humidity_text.place(x=120,y=120)\n",
    "\n",
    "humidity_storage = DoubleVar()\n",
    "humidity = Entry(textvariable = humidity_storage)\n",
    "humidity.place(x=300,y=120)\n",
    "\n",
    "\n",
    "click = Button(text = \"Predict CO2 In PPM\", fg = \"red\", bg = \"yellow\", command = run)\n",
    "click.place(x=200, y=180)\n",
    "\n",
    "mainloop()"
   ]
  },
  {
   "cell_type": "code",
   "execution_count": null,
   "metadata": {},
   "outputs": [],
   "source": []
  }
 ],
 "metadata": {
  "kernelspec": {
   "display_name": "Python 3",
   "language": "python",
   "name": "python3"
  },
  "language_info": {
   "codemirror_mode": {
    "name": "ipython",
    "version": 3
   },
   "file_extension": ".py",
   "mimetype": "text/x-python",
   "name": "python",
   "nbconvert_exporter": "python",
   "pygments_lexer": "ipython3",
   "version": "3.7.4"
  }
 },
 "nbformat": 4,
 "nbformat_minor": 2
}
